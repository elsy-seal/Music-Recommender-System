{
 "cells": [
  {
   "cell_type": "code",
   "execution_count": 1,
   "id": "33051604-cb39-4337-8a61-31b2c4f62785",
   "metadata": {},
   "outputs": [],
   "source": [
    "import pandas as pd"
   ]
  },
  {
   "cell_type": "code",
   "execution_count": 3,
   "id": "17880201-2e23-4df5-bcb7-a58ed33a6d3a",
   "metadata": {},
   "outputs": [],
   "source": [
    "df=pd.read_csv(\"spotify_millsongdata.csv.csv\")"
   ]
  },
  {
   "cell_type": "code",
   "execution_count": 4,
   "id": "422c5e43-090f-49f3-af9d-e1fc276e8c4a",
   "metadata": {},
   "outputs": [
    {
     "data": {
      "text/html": [
       "<div>\n",
       "<style scoped>\n",
       "    .dataframe tbody tr th:only-of-type {\n",
       "        vertical-align: middle;\n",
       "    }\n",
       "\n",
       "    .dataframe tbody tr th {\n",
       "        vertical-align: top;\n",
       "    }\n",
       "\n",
       "    .dataframe thead th {\n",
       "        text-align: right;\n",
       "    }\n",
       "</style>\n",
       "<table border=\"1\" class=\"dataframe\">\n",
       "  <thead>\n",
       "    <tr style=\"text-align: right;\">\n",
       "      <th></th>\n",
       "      <th>artist</th>\n",
       "      <th>song</th>\n",
       "      <th>link</th>\n",
       "      <th>text</th>\n",
       "    </tr>\n",
       "  </thead>\n",
       "  <tbody>\n",
       "    <tr>\n",
       "      <th>0</th>\n",
       "      <td>ABBA</td>\n",
       "      <td>Ahe's My Kind Of Girl</td>\n",
       "      <td>/a/abba/ahes+my+kind+of+girl_20598417.html</td>\n",
       "      <td>Look at her face, it's a wonderful face  \\r\\nA...</td>\n",
       "    </tr>\n",
       "    <tr>\n",
       "      <th>1</th>\n",
       "      <td>ABBA</td>\n",
       "      <td>Andante, Andante</td>\n",
       "      <td>/a/abba/andante+andante_20002708.html</td>\n",
       "      <td>Take it easy with me, please  \\r\\nTouch me gen...</td>\n",
       "    </tr>\n",
       "    <tr>\n",
       "      <th>2</th>\n",
       "      <td>ABBA</td>\n",
       "      <td>As Good As New</td>\n",
       "      <td>/a/abba/as+good+as+new_20003033.html</td>\n",
       "      <td>I'll never know why I had to go  \\r\\nWhy I had...</td>\n",
       "    </tr>\n",
       "    <tr>\n",
       "      <th>3</th>\n",
       "      <td>ABBA</td>\n",
       "      <td>Bang</td>\n",
       "      <td>/a/abba/bang_20598415.html</td>\n",
       "      <td>Making somebody happy is a question of give an...</td>\n",
       "    </tr>\n",
       "    <tr>\n",
       "      <th>4</th>\n",
       "      <td>ABBA</td>\n",
       "      <td>Bang-A-Boomerang</td>\n",
       "      <td>/a/abba/bang+a+boomerang_20002668.html</td>\n",
       "      <td>Making somebody happy is a question of give an...</td>\n",
       "    </tr>\n",
       "  </tbody>\n",
       "</table>\n",
       "</div>"
      ],
      "text/plain": [
       "  artist                   song                                        link  \\\n",
       "0   ABBA  Ahe's My Kind Of Girl  /a/abba/ahes+my+kind+of+girl_20598417.html   \n",
       "1   ABBA       Andante, Andante       /a/abba/andante+andante_20002708.html   \n",
       "2   ABBA         As Good As New        /a/abba/as+good+as+new_20003033.html   \n",
       "3   ABBA                   Bang                  /a/abba/bang_20598415.html   \n",
       "4   ABBA       Bang-A-Boomerang      /a/abba/bang+a+boomerang_20002668.html   \n",
       "\n",
       "                                                text  \n",
       "0  Look at her face, it's a wonderful face  \\r\\nA...  \n",
       "1  Take it easy with me, please  \\r\\nTouch me gen...  \n",
       "2  I'll never know why I had to go  \\r\\nWhy I had...  \n",
       "3  Making somebody happy is a question of give an...  \n",
       "4  Making somebody happy is a question of give an...  "
      ]
     },
     "execution_count": 4,
     "metadata": {},
     "output_type": "execute_result"
    }
   ],
   "source": [
    "df.head(5)"
   ]
  },
  {
   "cell_type": "code",
   "execution_count": 5,
   "id": "689012a1-194b-4cbe-8a51-56723f0f6dc8",
   "metadata": {},
   "outputs": [
    {
     "data": {
      "text/html": [
       "<div>\n",
       "<style scoped>\n",
       "    .dataframe tbody tr th:only-of-type {\n",
       "        vertical-align: middle;\n",
       "    }\n",
       "\n",
       "    .dataframe tbody tr th {\n",
       "        vertical-align: top;\n",
       "    }\n",
       "\n",
       "    .dataframe thead th {\n",
       "        text-align: right;\n",
       "    }\n",
       "</style>\n",
       "<table border=\"1\" class=\"dataframe\">\n",
       "  <thead>\n",
       "    <tr style=\"text-align: right;\">\n",
       "      <th></th>\n",
       "      <th>artist</th>\n",
       "      <th>song</th>\n",
       "      <th>link</th>\n",
       "      <th>text</th>\n",
       "    </tr>\n",
       "  </thead>\n",
       "  <tbody>\n",
       "    <tr>\n",
       "      <th>57645</th>\n",
       "      <td>Ziggy Marley</td>\n",
       "      <td>Good Old Days</td>\n",
       "      <td>/z/ziggy+marley/good+old+days_10198588.html</td>\n",
       "      <td>Irie days come on play  \\r\\nLet the angels fly...</td>\n",
       "    </tr>\n",
       "    <tr>\n",
       "      <th>57646</th>\n",
       "      <td>Ziggy Marley</td>\n",
       "      <td>Hand To Mouth</td>\n",
       "      <td>/z/ziggy+marley/hand+to+mouth_20531167.html</td>\n",
       "      <td>Power to the workers  \\r\\nMore power  \\r\\nPowe...</td>\n",
       "    </tr>\n",
       "    <tr>\n",
       "      <th>57647</th>\n",
       "      <td>Zwan</td>\n",
       "      <td>Come With Me</td>\n",
       "      <td>/z/zwan/come+with+me_20148981.html</td>\n",
       "      <td>all you need  \\r\\nis something i'll believe  \\...</td>\n",
       "    </tr>\n",
       "    <tr>\n",
       "      <th>57648</th>\n",
       "      <td>Zwan</td>\n",
       "      <td>Desire</td>\n",
       "      <td>/z/zwan/desire_20148986.html</td>\n",
       "      <td>northern star  \\r\\nam i frightened  \\r\\nwhere ...</td>\n",
       "    </tr>\n",
       "    <tr>\n",
       "      <th>57649</th>\n",
       "      <td>Zwan</td>\n",
       "      <td>Heartsong</td>\n",
       "      <td>/z/zwan/heartsong_20148991.html</td>\n",
       "      <td>come in  \\r\\nmake yourself at home  \\r\\ni'm a ...</td>\n",
       "    </tr>\n",
       "  </tbody>\n",
       "</table>\n",
       "</div>"
      ],
      "text/plain": [
       "             artist           song  \\\n",
       "57645  Ziggy Marley  Good Old Days   \n",
       "57646  Ziggy Marley  Hand To Mouth   \n",
       "57647          Zwan   Come With Me   \n",
       "57648          Zwan         Desire   \n",
       "57649          Zwan      Heartsong   \n",
       "\n",
       "                                              link  \\\n",
       "57645  /z/ziggy+marley/good+old+days_10198588.html   \n",
       "57646  /z/ziggy+marley/hand+to+mouth_20531167.html   \n",
       "57647           /z/zwan/come+with+me_20148981.html   \n",
       "57648                 /z/zwan/desire_20148986.html   \n",
       "57649              /z/zwan/heartsong_20148991.html   \n",
       "\n",
       "                                                    text  \n",
       "57645  Irie days come on play  \\r\\nLet the angels fly...  \n",
       "57646  Power to the workers  \\r\\nMore power  \\r\\nPowe...  \n",
       "57647  all you need  \\r\\nis something i'll believe  \\...  \n",
       "57648  northern star  \\r\\nam i frightened  \\r\\nwhere ...  \n",
       "57649  come in  \\r\\nmake yourself at home  \\r\\ni'm a ...  "
      ]
     },
     "execution_count": 5,
     "metadata": {},
     "output_type": "execute_result"
    }
   ],
   "source": [
    "df.tail(5)"
   ]
  },
  {
   "cell_type": "code",
   "execution_count": 6,
   "id": "a9e63fbf-878e-4071-994a-e5bce5549ba1",
   "metadata": {},
   "outputs": [
    {
     "data": {
      "text/plain": [
       "(57650, 4)"
      ]
     },
     "execution_count": 6,
     "metadata": {},
     "output_type": "execute_result"
    }
   ],
   "source": [
    "df.shape"
   ]
  },
  {
   "cell_type": "code",
   "execution_count": 7,
   "id": "08f17bb6-f406-43ed-a8d8-6427ec9f9ed8",
   "metadata": {},
   "outputs": [
    {
     "data": {
      "text/plain": [
       "artist    0\n",
       "song      0\n",
       "link      0\n",
       "text      0\n",
       "dtype: int64"
      ]
     },
     "execution_count": 7,
     "metadata": {},
     "output_type": "execute_result"
    }
   ],
   "source": [
    "df.isnull().sum()"
   ]
  },
  {
   "cell_type": "code",
   "execution_count": 8,
   "id": "4bc91f56-b448-4324-a6c9-502c87a44a45",
   "metadata": {},
   "outputs": [],
   "source": [
    "\n",
    "\n",
    "df =df.sample(5000).drop('link', axis=1).reset_index(drop=True)"
   ]
  },
  {
   "cell_type": "code",
   "execution_count": 9,
   "id": "181c8955-508b-4320-87f5-b237e68cc6ca",
   "metadata": {},
   "outputs": [
    {
     "data": {
      "text/plain": [
       "\"Bloodshot on the panicked eye  \\r\\nToo gone for resolution  \\r\\nToo late for the gallant try  \\r\\nOr to find his own solution  \\r\\n  \\r\\nPray save us or to buy the plan, vengeance is my name  \\r\\nToo deep for a drowning man too deep to call him sane  \\r\\nIn the farthest place from you  \\r\\nWhere blood drips through your hands  \\r\\n  \\r\\nThe action deafens every word  \\r\\nThat runs your master plan  \\r\\n  \\r\\n[Chorus]  \\r\\nHigher, go higher  \\r\\nKnow you've paid for the best  \\r\\nHigher, go higher  \\r\\nCan't pay in cash, take a pound of your flesh  \\r\\n  \\r\\nTurned out where you're left to die  \\r\\nTurned into this destruction  \\r\\nSet free where you only fly  \\r\\nTo a promised resurrection  \\r\\n  \\r\\nPray save me, or to find a way, bathing in my blame  \\r\\nTapped out but he has to pay, vengeance is my name  \\r\\nIn the closest place to you  \\r\\nWhere water fills your hands  \\r\\n  \\r\\nYour thirst is gone with every taste  \\r\\nThat fuels your master plan  \\r\\n  \\r\\n[Chorus]  \\r\\nHigher, go higher  \\r\\nKnow you've paid for the best  \\r\\nHigher, go higher  \\r\\nPay with your love, or a pound of your flesh  \\r\\n  \\r\\nDon't know you're fucking with the best  \\r\\nAll the competition laid to rest  \\r\\nHumble as you crawl out of the mess  \\r\\nOne by one I count my pounds of flesh\\r\\n\\r\\n\""
      ]
     },
     "execution_count": 9,
     "metadata": {},
     "output_type": "execute_result"
    }
   ],
   "source": [
    "df['text'][0]"
   ]
  },
  {
   "cell_type": "code",
   "execution_count": 10,
   "id": "e981d7f4-b50f-47b1-ad41-968e6c2f8bb7",
   "metadata": {},
   "outputs": [],
   "source": [
    "df = df.sample(5000)"
   ]
  },
  {
   "cell_type": "code",
   "execution_count": 11,
   "id": "437b1463-4a98-4d0a-b019-c0719d7376a2",
   "metadata": {},
   "outputs": [
    {
     "data": {
      "text/plain": [
       "(5000, 3)"
      ]
     },
     "execution_count": 11,
     "metadata": {},
     "output_type": "execute_result"
    }
   ],
   "source": [
    "df.shape"
   ]
  },
  {
   "cell_type": "markdown",
   "id": "2594e4d7-d866-4bd8-bb16-63f3f79f9704",
   "metadata": {},
   "source": [
    "Text Cleaning/ Text Preprocessing"
   ]
  },
  {
   "cell_type": "code",
   "execution_count": 12,
   "id": "dfcf49fa-bd8e-4ff5-9980-7e7734cd09c5",
   "metadata": {},
   "outputs": [],
   "source": [
    "df['text'] = df['text'].str.lower().replace(r'^\\w\\s', ' ').replace(r'\\n',' ',regex= True)"
   ]
  },
  {
   "cell_type": "code",
   "execution_count": 13,
   "id": "7a295fc6-3219-4d83-a86e-4c3f765be7c0",
   "metadata": {},
   "outputs": [
    {
     "data": {
      "text/html": [
       "<div>\n",
       "<style scoped>\n",
       "    .dataframe tbody tr th:only-of-type {\n",
       "        vertical-align: middle;\n",
       "    }\n",
       "\n",
       "    .dataframe tbody tr th {\n",
       "        vertical-align: top;\n",
       "    }\n",
       "\n",
       "    .dataframe thead th {\n",
       "        text-align: right;\n",
       "    }\n",
       "</style>\n",
       "<table border=\"1\" class=\"dataframe\">\n",
       "  <thead>\n",
       "    <tr style=\"text-align: right;\">\n",
       "      <th></th>\n",
       "      <th>artist</th>\n",
       "      <th>song</th>\n",
       "      <th>text</th>\n",
       "    </tr>\n",
       "  </thead>\n",
       "  <tbody>\n",
       "    <tr>\n",
       "      <th>1603</th>\n",
       "      <td>Leo Sayer</td>\n",
       "      <td>How Beautiful You Are</td>\n",
       "      <td>from the window of our honeymoon  \\r the night...</td>\n",
       "    </tr>\n",
       "    <tr>\n",
       "      <th>3095</th>\n",
       "      <td>Cake</td>\n",
       "      <td>No Phone</td>\n",
       "      <td>no phone no phone i just want to be alone toda...</td>\n",
       "    </tr>\n",
       "    <tr>\n",
       "      <th>2116</th>\n",
       "      <td>Cliff Richard</td>\n",
       "      <td>Clear Blue Skies</td>\n",
       "      <td>i got you  \\r i got you  \\r i got you  \\r i go...</td>\n",
       "    </tr>\n",
       "    <tr>\n",
       "      <th>4608</th>\n",
       "      <td>Misfits</td>\n",
       "      <td>Who Killed Marilyn?</td>\n",
       "      <td>5:25 august fifth, 1962  \\r found her lying on...</td>\n",
       "    </tr>\n",
       "    <tr>\n",
       "      <th>3374</th>\n",
       "      <td>Lea Salonga</td>\n",
       "      <td>He's Got To Be Someone</td>\n",
       "      <td>you don't know him  \\r like i know him  \\r he ...</td>\n",
       "    </tr>\n",
       "  </tbody>\n",
       "</table>\n",
       "</div>"
      ],
      "text/plain": [
       "             artist                    song  \\\n",
       "1603      Leo Sayer   How Beautiful You Are   \n",
       "3095           Cake                No Phone   \n",
       "2116  Cliff Richard        Clear Blue Skies   \n",
       "4608        Misfits     Who Killed Marilyn?   \n",
       "3374    Lea Salonga  He's Got To Be Someone   \n",
       "\n",
       "                                                   text  \n",
       "1603  from the window of our honeymoon  \\r the night...  \n",
       "3095  no phone no phone i just want to be alone toda...  \n",
       "2116  i got you  \\r i got you  \\r i got you  \\r i go...  \n",
       "4608  5:25 august fifth, 1962  \\r found her lying on...  \n",
       "3374  you don't know him  \\r like i know him  \\r he ...  "
      ]
     },
     "execution_count": 13,
     "metadata": {},
     "output_type": "execute_result"
    }
   ],
   "source": [
    "df.head(5)"
   ]
  },
  {
   "cell_type": "code",
   "execution_count": 14,
   "id": "bc9994d6-0e06-43ff-9c65-2841454d2e3d",
   "metadata": {},
   "outputs": [],
   "source": [
    "import nltk\n",
    "from nltk.stem.porter import PorterStemmer"
   ]
  },
  {
   "cell_type": "code",
   "execution_count": 15,
   "id": "733694ca-1d5e-4c4a-b7c8-14fea5e78220",
   "metadata": {},
   "outputs": [],
   "source": [
    "stemmer = PorterStemmer()"
   ]
  },
  {
   "cell_type": "code",
   "execution_count": 16,
   "id": "fc506384-da9a-4e8d-aab0-1cc8ef93e011",
   "metadata": {},
   "outputs": [],
   "source": [
    "def token(txt):\n",
    "    token = nltk.word_tokenize(txt)\n",
    "    a =[stemmer.stem(w) for w in token]\n",
    "    return \" \".join(a)"
   ]
  },
  {
   "cell_type": "code",
   "execution_count": 17,
   "id": "aecdecce-9a31-4bd5-824e-4c3442c2ab7b",
   "metadata": {},
   "outputs": [
    {
     "data": {
      "text/plain": [
       "'you are beauti , beauti'"
      ]
     },
     "execution_count": 17,
     "metadata": {},
     "output_type": "execute_result"
    }
   ],
   "source": [
    "token(\"you are beautiful, beauty\")"
   ]
  },
  {
   "cell_type": "code",
   "execution_count": 18,
   "id": "be16b072-edd4-478e-81f9-547a66058cae",
   "metadata": {},
   "outputs": [
    {
     "data": {
      "text/plain": [
       "1603    from the window of our honeymoon the night loo...\n",
       "3095    no phone no phone i just want to be alon today...\n",
       "2116    i got you i got you i got you i got you and cl...\n",
       "4608    5:25 august fifth , 1962 found her lie on her ...\n",
       "3374    you do n't know him like i know him he must be...\n",
       "                              ...                        \n",
       "2451    my one way ride in dead end street lead to vic...\n",
       "628     i do n't want to leav you on the farm i do n't...\n",
       "2820    hey babi , listen up i 'm not in love with you...\n",
       "2072    i see you 're dress to kill i know i ca n't wa...\n",
       "1472    you 've got the best of both world you 're the...\n",
       "Name: text, Length: 5000, dtype: object"
      ]
     },
     "execution_count": 18,
     "metadata": {},
     "output_type": "execute_result"
    }
   ],
   "source": [
    "df['text'].apply(lambda x: token(x))"
   ]
  },
  {
   "cell_type": "code",
   "execution_count": 19,
   "id": "778cc6c9-312d-4331-af75-0547d0f2ce1f",
   "metadata": {},
   "outputs": [],
   "source": [
    "from sklearn.feature_extraction.text import TfidfVectorizer\n",
    "from sklearn.metrics.pairwise import cosine_similarity"
   ]
  },
  {
   "cell_type": "code",
   "execution_count": 20,
   "id": "20df57db-e995-4d21-b317-8b84a9de4bca",
   "metadata": {},
   "outputs": [],
   "source": [
    "tfid = TfidfVectorizer(analyzer='word', stop_words='english')"
   ]
  },
  {
   "cell_type": "code",
   "execution_count": 21,
   "id": "2437f97e-b20c-4f65-949b-5bb6155a6da8",
   "metadata": {},
   "outputs": [],
   "source": [
    "matrix=tfid.fit_transform(df['text'])"
   ]
  },
  {
   "cell_type": "code",
   "execution_count": 22,
   "id": "b41c59bc-4eba-4c8f-b54c-79e353d8a303",
   "metadata": {},
   "outputs": [],
   "source": [
    "similar = cosine_similarity(matrix)"
   ]
  },
  {
   "cell_type": "code",
   "execution_count": 23,
   "id": "d15c3bea-1151-4a25-b860-37028a993d88",
   "metadata": {},
   "outputs": [
    {
     "data": {
      "text/plain": [
       "array([1.        , 0.01128097, 0.        , ..., 0.02093945, 0.00369166,\n",
       "       0.10482737])"
      ]
     },
     "execution_count": 23,
     "metadata": {},
     "output_type": "execute_result"
    }
   ],
   "source": [
    "similar[0]"
   ]
  },
  {
   "cell_type": "code",
   "execution_count": 24,
   "id": "400e7c71-ef3a-43e0-81d0-a4e3d230e1b6",
   "metadata": {},
   "outputs": [
    {
     "name": "stdout",
     "output_type": "stream",
     "text": [
      "Index for 'Ethiopia': 95\n"
     ]
    }
   ],
   "source": [
    "# Check if 'Ethiopia' exists in the DataFrame\n",
    "ethiopia_rows = df[df['song'] == 'Ethiopia']\n",
    "if ethiopia_rows.empty:\n",
    "    print(\"No rows found for 'Ethiopia'.\")\n",
    "else:\n",
    "    # Get the index of the first row (if it exists)\n",
    "    idx = ethiopia_rows.index[0]\n",
    "    print(f\"Index for 'Ethiopia': {idx}\")\n"
   ]
  },
  {
   "cell_type": "code",
   "execution_count": 25,
   "id": "c1eceb05-6ae5-45b7-a28a-ae09ec791d1d",
   "metadata": {},
   "outputs": [
    {
     "data": {
      "text/plain": [
       "np.int64(95)"
      ]
     },
     "execution_count": 25,
     "metadata": {},
     "output_type": "execute_result"
    }
   ],
   "source": [
    "df[df['song']==\"Ethiopia\"].index[0]"
   ]
  },
  {
   "cell_type": "markdown",
   "id": "e5018d2b-0f5f-4494-b651-5494a3127f94",
   "metadata": {},
   "source": [
    "Recommender Function"
   ]
  },
  {
   "cell_type": "code",
   "execution_count": 26,
   "id": "316ac3a6-39ea-48e1-ade5-d09703a09abb",
   "metadata": {},
   "outputs": [],
   "source": [
    "def recommender(song_name):\n",
    "    idx = df[df['song']==song_name].index[0]\n",
    "    distance = sorted(list(enumerate(similar[idx])), reverse=True, key = lambda x:x[1])\n",
    "    song = []\n",
    "    for s_id in distance[1:5]:\n",
    "        song.append(df.iloc[s_id[0]].song)\n",
    "        return song"
   ]
  },
  {
   "cell_type": "code",
   "execution_count": 27,
   "id": "d520ee99-975f-4343-bd5e-f67d591df951",
   "metadata": {},
   "outputs": [
    {
     "data": {
      "text/plain": [
       "['Alberta Bound']"
      ]
     },
     "execution_count": 27,
     "metadata": {},
     "output_type": "execute_result"
    }
   ],
   "source": [
    "recommender(\"Lost And Found\")"
   ]
  },
  {
   "cell_type": "code",
   "execution_count": 28,
   "id": "b2d6604e-3536-4c2a-9f55-7b518407b919",
   "metadata": {},
   "outputs": [
    {
     "name": "stdout",
     "output_type": "stream",
     "text": [
      "Recommended songs: [3175, 2312, 3744, 33, 3444]\n"
     ]
    }
   ],
   "source": [
    "def recommender(song_name, top_n=5):\n",
    "    idx = df[df['song'] == song_name].index[0]\n",
    "    distance = sorted(list(enumerate(similar[idx])), reverse=True, key=lambda x: x[1])\n",
    "    recommended_songs = [s_id for s_id, _ in distance[1:top_n+1]]\n",
    "    return recommended_songs\n",
    "\n",
    "# Call the recommender function with 'Ethiopia' and get top-5 recommendations\n",
    "recommended_songs = recommender(\"Ethiopia\", top_n=5)\n",
    "print(f\"Recommended songs: {recommended_songs}\")\n"
   ]
  },
  {
   "cell_type": "code",
   "execution_count": 29,
   "id": "8b058cde-7940-48d2-b272-9e9938e7d968",
   "metadata": {},
   "outputs": [
    {
     "data": {
      "text/plain": [
       "['Read My Mind', 'Over And Out', 'Miss America', 'I Got Money Now', 'Friend']"
      ]
     },
     "execution_count": 29,
     "metadata": {},
     "output_type": "execute_result"
    }
   ],
   "source": [
    "def recommender(song_name, top_n=5):\n",
    "    idx = df[df['song'] == song_name].index[0]\n",
    "    distance = sorted(list(enumerate(similar[idx])), reverse=True, key=lambda x: x[1])\n",
    "    recommended_songs = [df.iloc[s_id]['song'] for s_id, _ in distance[1:top_n+1]]\n",
    "    return recommended_songs\n",
    "\n",
    "# Call the recommender function with 'Ethiopia' and get top-5 recommended song names\n",
    "recommended_songs = recommender(\"Ethiopia\", top_n=5)\n",
    "recommended_songs\n"
   ]
  },
  {
   "cell_type": "code",
   "execution_count": 30,
   "id": "d3594ca8-6918-41f6-8680-4b2f110bf272",
   "metadata": {},
   "outputs": [
    {
     "data": {
      "text/plain": [
       "['Alberta Bound',\n",
       " 'Desert Island',\n",
       " 'From A Buick 6',\n",
       " 'Look To You',\n",
       " 'Found Found Found']"
      ]
     },
     "execution_count": 30,
     "metadata": {},
     "output_type": "execute_result"
    }
   ],
   "source": [
    "recommender(\"Lost And Found\")"
   ]
  },
  {
   "cell_type": "code",
   "execution_count": 31,
   "id": "009ba5b8-7cfc-4345-bc69-4a68cb15d842",
   "metadata": {},
   "outputs": [],
   "source": [
    "import pickle"
   ]
  },
  {
   "cell_type": "code",
   "execution_count": 32,
   "id": "accb0b59-0bcc-4e2f-b360-910147fa9c50",
   "metadata": {},
   "outputs": [],
   "source": [
    "pickle.dump(similar, open(\"similarity\", \"wb\"))"
   ]
  },
  {
   "cell_type": "code",
   "execution_count": 33,
   "id": "1523f5a4-67bd-4b6d-904e-e2755086a802",
   "metadata": {},
   "outputs": [],
   "source": [
    "pickle.dump(df, open(\"df\", \"wb\"))"
   ]
  },
  {
   "cell_type": "code",
   "execution_count": 37,
   "id": "2a97c9a1-3948-436f-9807-b4454a8f9ca0",
   "metadata": {},
   "outputs": [],
   "source": [
    "pickle.dump(similar, open(\"similarity\", \"wb\"))"
   ]
  },
  {
   "cell_type": "code",
   "execution_count": 38,
   "id": "b6283491-ad43-40c2-888e-9c57cb539775",
   "metadata": {},
   "outputs": [],
   "source": [
    "# Save 'similar' data as 'similarity.pkl'\n",
    "with open('similarity.pkl', 'wb') as sim_file:\n",
    "    pickle.dump(similar, sim_file)"
   ]
  },
  {
   "cell_type": "code",
   "execution_count": null,
   "id": "373128a1-1918-4eb0-8843-9be94014afb9",
   "metadata": {},
   "outputs": [],
   "source": []
  }
 ],
 "metadata": {
  "kernelspec": {
   "display_name": "Python 3 (ipykernel)",
   "language": "python",
   "name": "python3"
  },
  "language_info": {
   "codemirror_mode": {
    "name": "ipython",
    "version": 3
   },
   "file_extension": ".py",
   "mimetype": "text/x-python",
   "name": "python",
   "nbconvert_exporter": "python",
   "pygments_lexer": "ipython3",
   "version": "3.10.5"
  }
 },
 "nbformat": 4,
 "nbformat_minor": 5
}
