{
 "cells": [
  {
   "cell_type": "code",
   "execution_count": null,
   "id": "33051604-cb39-4337-8a61-31b2c4f62785",
   "metadata": {},
   "outputs": [],
   "source": [
    "import pandas as pd"
   ]
  },
  {
   "cell_type": "code",
   "execution_count": null,
   "id": "17880201-2e23-4df5-bcb7-a58ed33a6d3a",
   "metadata": {},
   "outputs": [],
   "source": [
    "df=pd.read_csv(\"spotify_millsongdata.csv.csv\")"
   ]
  },
  {
   "cell_type": "code",
   "execution_count": null,
   "id": "422c5e43-090f-49f3-af9d-e1fc276e8c4a",
   "metadata": {},
   "outputs": [],
   "source": [
    "df.head(5)"
   ]
  },
  {
   "cell_type": "code",
   "execution_count": null,
   "id": "689012a1-194b-4cbe-8a51-56723f0f6dc8",
   "metadata": {},
   "outputs": [],
   "source": [
    "df.tail(5)"
   ]
  },
  {
   "cell_type": "code",
   "execution_count": null,
   "id": "a9e63fbf-878e-4071-994a-e5bce5549ba1",
   "metadata": {},
   "outputs": [],
   "source": [
    "df.shape"
   ]
  },
  {
   "cell_type": "code",
   "execution_count": null,
   "id": "08f17bb6-f406-43ed-a8d8-6427ec9f9ed8",
   "metadata": {},
   "outputs": [],
   "source": [
    "df.isnull().sum()"
   ]
  },
  {
   "cell_type": "code",
   "execution_count": null,
   "id": "4bc91f56-b448-4324-a6c9-502c87a44a45",
   "metadata": {},
   "outputs": [],
   "source": [
    "df =df.sample(5000).drop('link', axis=1).reset_index(drop=True)"
   ]
  },
  {
   "cell_type": "code",
   "execution_count": null,
   "id": "181c8955-508b-4320-87f5-b237e68cc6ca",
   "metadata": {},
   "outputs": [],
   "source": [
    "df['text'][0]"
   ]
  },
  {
   "cell_type": "code",
   "execution_count": null,
   "id": "e981d7f4-b50f-47b1-ad41-968e6c2f8bb7",
   "metadata": {},
   "outputs": [],
   "source": [
    "df = df.sample(5000)"
   ]
  },
  {
   "cell_type": "code",
   "execution_count": null,
   "id": "437b1463-4a98-4d0a-b019-c0719d7376a2",
   "metadata": {},
   "outputs": [],
   "source": [
    "df.shape"
   ]
  },
  {
   "cell_type": "markdown",
   "id": "2594e4d7-d866-4bd8-bb16-63f3f79f9704",
   "metadata": {},
   "source": [
    "Text Cleaning/ Text Preprocessing"
   ]
  },
  {
   "cell_type": "code",
   "execution_count": null,
   "id": "dfcf49fa-bd8e-4ff5-9980-7e7734cd09c5",
   "metadata": {},
   "outputs": [],
   "source": [
    "df['text'] = df['text'].str.lower().replace(r'^\\w\\s', ' ').replace(r'\\n',' ',regex= True)"
   ]
  },
  {
   "cell_type": "code",
   "execution_count": null,
   "id": "7a295fc6-3219-4d83-a86e-4c3f765be7c0",
   "metadata": {},
   "outputs": [],
   "source": [
    "df.head(5)"
   ]
  },
  {
   "cell_type": "code",
   "execution_count": null,
   "id": "bc9994d6-0e06-43ff-9c65-2841454d2e3d",
   "metadata": {},
   "outputs": [],
   "source": [
    "import nltk\n",
    "from nltk.stem.porter import PorterStemmer"
   ]
  },
  {
   "cell_type": "code",
   "execution_count": null,
   "id": "733694ca-1d5e-4c4a-b7c8-14fea5e78220",
   "metadata": {},
   "outputs": [],
   "source": [
    "stemmer = PorterStemmer()"
   ]
  },
  {
   "cell_type": "code",
   "execution_count": null,
   "id": "fc506384-da9a-4e8d-aab0-1cc8ef93e011",
   "metadata": {},
   "outputs": [],
   "source": [
    "def token(txt):\n",
    "    token = nltk.word_tokenize(txt)\n",
    "    a =[stemmer.stem(w) for w in token]\n",
    "    return \" \".join(a)"
   ]
  },
  {
   "cell_type": "code",
   "execution_count": null,
   "id": "aecdecce-9a31-4bd5-824e-4c3442c2ab7b",
   "metadata": {},
   "outputs": [],
   "source": [
    "token(\"you are beautiful, beauty\")"
   ]
  },
  {
   "cell_type": "code",
   "execution_count": null,
   "id": "be16b072-edd4-478e-81f9-547a66058cae",
   "metadata": {},
   "outputs": [],
   "source": [
    "df['text'].apply(lambda x: token(x))"
   ]
  },
  {
   "cell_type": "code",
   "execution_count": null,
   "id": "778cc6c9-312d-4331-af75-0547d0f2ce1f",
   "metadata": {},
   "outputs": [],
   "source": [
    "from sklearn.feature_extraction.text import TfidfVectorizer\n",
    "from sklearn.metrics.pairwise import cosine_similarity"
   ]
  },
  {
   "cell_type": "code",
   "execution_count": null,
   "id": "20df57db-e995-4d21-b317-8b84a9de4bca",
   "metadata": {},
   "outputs": [],
   "source": [
    "tfid = TfidfVectorizer(analyzer='word', stop_words='english')"
   ]
  },
  {
   "cell_type": "code",
   "execution_count": null,
   "id": "2437f97e-b20c-4f65-949b-5bb6155a6da8",
   "metadata": {},
   "outputs": [],
   "source": [
    "matrix=tfid.fit_transform(df['text'])"
   ]
  },
  {
   "cell_type": "code",
   "execution_count": null,
   "id": "b41c59bc-4eba-4c8f-b54c-79e353d8a303",
   "metadata": {},
   "outputs": [],
   "source": [
    "similar = cosine_similarity(matrix)"
   ]
  },
  {
   "cell_type": "code",
   "execution_count": null,
   "id": "d15c3bea-1151-4a25-b860-37028a993d88",
   "metadata": {},
   "outputs": [],
   "source": [
    "similar[0]"
   ]
  },
  {
   "cell_type": "code",
   "execution_count": null,
   "id": "400e7c71-ef3a-43e0-81d0-a4e3d230e1b6",
   "metadata": {},
   "outputs": [],
   "source": [
    "# Check if 'Ethiopia' exists in the DataFrame\n",
    "ethiopia_rows = df[df['song'] == 'Ethiopia']\n",
    "if ethiopia_rows.empty:\n",
    "    print(\"No rows found for 'Ethiopia'.\")\n",
    "else:\n",
    "    # Get the index of the first row (if it exists)\n",
    "    idx = ethiopia_rows.index[0]\n",
    "    print(f\"Index for 'Ethiopia': {idx}\")\n"
   ]
  },
  {
   "cell_type": "code",
   "execution_count": null,
   "id": "c1eceb05-6ae5-45b7-a28a-ae09ec791d1d",
   "metadata": {},
   "outputs": [],
   "source": [
    "df[df['song']==\"Ethiopia\"].index[0]"
   ]
  },
  {
   "cell_type": "markdown",
   "id": "e5018d2b-0f5f-4494-b651-5494a3127f94",
   "metadata": {},
   "source": [
    "Recommender Function"
   ]
  },
  {
   "cell_type": "code",
   "execution_count": null,
   "id": "316ac3a6-39ea-48e1-ade5-d09703a09abb",
   "metadata": {},
   "outputs": [],
   "source": [
    "def recommender(song_name):\n",
    "    idx = df[df['song']==song_name].index[0]\n",
    "    distance = sorted(list(enumerate(similar[idx])), reverse=True, key = lambda x:x[1])\n",
    "    song = []\n",
    "    for s_id in distance[1:5]:\n",
    "        song.append(df.iloc[s_id[0]].song)\n",
    "        return song"
   ]
  },
  {
   "cell_type": "code",
   "execution_count": null,
   "id": "d520ee99-975f-4343-bd5e-f67d591df951",
   "metadata": {},
   "outputs": [],
   "source": [
    "recommender(\"Lost And Found\")"
   ]
  },
  {
   "cell_type": "code",
   "execution_count": null,
   "id": "b2d6604e-3536-4c2a-9f55-7b518407b919",
   "metadata": {},
   "outputs": [],
   "source": [
    "def recommender(song_name, top_n=5):\n",
    "    idx = df[df['song'] == song_name].index[0]\n",
    "    distance = sorted(list(enumerate(similar[idx])), reverse=True, key=lambda x: x[1])\n",
    "    recommended_songs = [s_id for s_id, _ in distance[1:top_n+1]]\n",
    "    return recommended_songs\n",
    "\n",
    "# Call the recommender function with 'Ethiopia' and get top-5 recommendations\n",
    "recommended_songs = recommender(\"Ethiopia\", top_n=5)\n",
    "print(f\"Recommended songs: {recommended_songs}\")\n"
   ]
  },
  {
   "cell_type": "code",
   "execution_count": null,
   "id": "8b058cde-7940-48d2-b272-9e9938e7d968",
   "metadata": {},
   "outputs": [],
   "source": [
    "def recommender(song_name, top_n=5):\n",
    "    idx = df[df['song'] == song_name].index[0]\n",
    "    distance = sorted(list(enumerate(similar[idx])), reverse=True, key=lambda x: x[1])\n",
    "    recommended_songs = [df.iloc[s_id]['song'] for s_id, _ in distance[1:top_n+1]]\n",
    "    return recommended_songs\n",
    "\n",
    "# Call the recommender function with 'Ethiopia' and get top-5 recommended song names\n",
    "recommended_songs = recommender(\"Ethiopia\", top_n=5)\n",
    "recommended_songs\n"
   ]
  },
  {
   "cell_type": "code",
   "execution_count": null,
   "id": "d3594ca8-6918-41f6-8680-4b2f110bf272",
   "metadata": {},
   "outputs": [],
   "source": [
    "recommender(\"Lost And Found\")"
   ]
  },
  {
   "cell_type": "code",
   "execution_count": null,
   "id": "009ba5b8-7cfc-4345-bc69-4a68cb15d842",
   "metadata": {},
   "outputs": [],
   "source": [
    "import pickle"
   ]
  },
  {
   "cell_type": "code",
   "execution_count": null,
   "id": "accb0b59-0bcc-4e2f-b360-910147fa9c50",
   "metadata": {},
   "outputs": [],
   "source": [
    "pickle.dump(similar, open(\"similarity\", \"wb\"))"
   ]
  },
  {
   "cell_type": "code",
   "execution_count": null,
   "id": "1523f5a4-67bd-4b6d-904e-e2755086a802",
   "metadata": {},
   "outputs": [],
   "source": [
    "pickle.dump(df, open(\"df\", \"wb\"))"
   ]
  },
  {
   "cell_type": "code",
   "execution_count": null,
   "id": "49a6f244-2264-4991-8cd0-76dd703b361e",
   "metadata": {},
   "outputs": [],
   "source": [
    "# Save DataFrame as df.pkl\n",
    "df.to_pickle('df.pkl')\n",
    "\n",
    "# Save similarity data as similarity.pkl\n",
    "similarity_df.to_pickle('similarity.pkl')\n"
   ]
  },
  {
   "cell_type": "code",
   "execution_count": null,
   "id": "9324e115-715b-4077-ad38-85b9545500e9",
   "metadata": {},
   "outputs": [],
   "source": []
  }
 ],
 "metadata": {
  "kernelspec": {
   "display_name": "Python 3 (ipykernel)",
   "language": "python",
   "name": "python3"
  },
  "language_info": {
   "codemirror_mode": {
    "name": "ipython",
    "version": 3
   },
   "file_extension": ".py",
   "mimetype": "text/x-python",
   "name": "python",
   "nbconvert_exporter": "python",
   "pygments_lexer": "ipython3",
   "version": "3.10.5"
  }
 },
 "nbformat": 4,
 "nbformat_minor": 5
}
